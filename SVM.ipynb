{
 "cells": [
  {
   "cell_type": "code",
   "execution_count": 1,
   "metadata": {},
   "outputs": [],
   "source": [
    "#coding=utf-8\n",
    "import numpy as np\n",
    "import pandas as pd\n",
    "from sklearn.feature_extraction.text import TfidfVectorizer as TFIDF \n",
    "from sklearn import svm\n",
    "train=pd.read_csv('train.csv',sep='\\t')\n",
    "test=pd.read_csv('test_new.csv')"
   ]
  },
  {
   "cell_type": "code",
   "execution_count": 2,
   "metadata": {},
   "outputs": [],
   "source": [
    "import re\n",
    "def extractChinese(s):\n",
    "    pattern=\"[\\u4e00-\\u9fa5]+\"#中文正则表达式\n",
    "    regex = re.compile(pattern) #生成正则对象 \n",
    "    results = regex.findall(s) #匹配\n",
    "    return \"\". join(results)\n",
    "# 预处理数据\n",
    "label = train['label']\n",
    "train_data = []\n",
    "for i in range(len(train['comment'])):\n",
    "    train_data.append(' '.join(extractChinese(train['comment'][i])))\n",
    "test_data = []\n",
    "for i in range(len(test['comment'])):\n",
    "    test_data.append(' '.join(extractChinese(test['comment'][i])))"
   ]
  },
  {
   "cell_type": "code",
   "execution_count": 3,
   "metadata": {},
   "outputs": [],
   "source": [
    "tfidf = TFIDF(min_df=1, # 最小支持长度\n",
    "           max_features=150000,#取特征数量\n",
    "           strip_accents ='unicode',\n",
    "           analyzer='word',\n",
    "           token_pattern=r'\\w{1,}',\n",
    "           ngram_range=(1, 3),  \n",
    "           use_idf=1,\n",
    "           smooth_idf=1,\n",
    "           sublinear_tf=1,\n",
    "           stop_words=None,\n",
    "  \n",
    "           ) "
   ]
  },
  {
   "cell_type": "code",
   "execution_count": 4,
   "metadata": {},
   "outputs": [
    {
     "name": "stdout",
     "output_type": "stream",
     "text": [
      "TF-IDF处理结束.\n"
     ]
    }
   ],
   "source": [
    "data_all = train_data + test_data\n",
    "len_train = len(train_data)\n",
    "\n",
    "tfidf.fit(data_all)\n",
    "\n",
    "data_all = tfidf.transform(data_all)\n",
    "\n",
    "# 恢复成训练集和测试集部分\n",
    "train_x = data_all[:len_train]\n",
    "test_x = data_all[len_train:]\n",
    "print ('TF-IDF处理结束.')"
   ]
  },
  {
   "cell_type": "code",
   "execution_count": 5,
   "metadata": {},
   "outputs": [],
   "source": [
    "clf=svm.LinearSVC(loss='squared_hinge', dual=True, tol=0.0001,\n",
    "                  C=1.0, multi_class='ovr', fit_intercept=True, intercept_scaling=1, \n",
    "                  class_weight='balanced', verbose=0, random_state=None, max_iter=1000)\n",
    "svm=clf.fit(train_x,label)\n",
    "svm_pre=svm.predict(test_x)\n",
    "svm = pd.DataFrame(data=svm_pre, columns=['comment'])\n",
    "svm['id'] = test.id\n",
    "svm = svm[['id', 'comment']]\n",
    "svm.to_csv('svm.csv',index=False)"
   ]
  }
 ],
 "metadata": {
  "kernelspec": {
   "display_name": "Python 3",
   "language": "python",
   "name": "python3"
  },
  "language_info": {
   "codemirror_mode": {
    "name": "ipython",
    "version": 3
   },
   "file_extension": ".py",
   "mimetype": "text/x-python",
   "name": "python",
   "nbconvert_exporter": "python",
   "pygments_lexer": "ipython3",
   "version": "3.7.3"
  }
 },
 "nbformat": 4,
 "nbformat_minor": 2
}
