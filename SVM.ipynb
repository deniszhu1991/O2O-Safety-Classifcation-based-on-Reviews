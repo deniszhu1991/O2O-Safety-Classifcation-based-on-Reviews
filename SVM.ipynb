{
 "cells": [
  {
   "cell_type": "code",
   "execution_count": 6,
   "metadata": {},
   "outputs": [],
   "source": [
    "#coding=utf-8\n",
    "import numpy as np\n",
    "import pandas as pd\n",
    "from sklearn.feature_extraction.text import TfidfVectorizer as TFIDF \n",
    "from sklearn import svm\n",
    "train=pd.read_csv('train.csv',sep='\\t')\n",
    "test=pd.read_csv('test_new.csv')"
   ]
  },
  {
   "cell_type": "code",
   "execution_count": 7,
   "metadata": {},
   "outputs": [],
   "source": [
    "import re\n",
    "def extractChinese(s):\n",
    "    pattern=\"[\\u4e00-\\u9fa5]+\"#中文正则表达式\n",
    "    regex = re.compile(pattern) #生成正则对象 \n",
    "    results = regex.findall(s) #匹配\n",
    "    return \"\". join(results)\n",
    "# 预处理数据\n",
    "label = train['label']\n",
    "train_data = []\n",
    "for i in range(len(train['comment'])):\n",
    "    train_data.append(' '.join(extractChinese(train['comment'][i])))\n",
    "test_data = []\n",
    "for i in range(len(test['comment'])):\n",
    "    test_data.append(' '.join(extractChinese(test['comment'][i])))"
   ]
  },
  {
   "cell_type": "code",
   "execution_count": 10,
   "metadata": {},
   "outputs": [],
   "source": [
    "tfidf = TFIDF(min_df=1, # 最小支持长度\n",
    "           max_features=150000,#取特征数量\n",
    "           strip_accents ='unicode',\n",
    "           analyzer='word',\n",
    "           token_pattern=r'\\w{1,}',\n",
    "           ngram_range=(1, 3),  \n",
    "           use_idf=1,\n",
    "           smooth_idf=1,\n",
    "           sublinear_tf=1,\n",
    "           stop_words=None,\n",
    "  \n",
    "           ) "
   ]
  },
  {
   "cell_type": "code",
   "execution_count": 11,
   "metadata": {},
   "outputs": [
    {
     "name": "stdout",
     "output_type": "stream",
     "text": [
      "TF-IDF处理结束.\n"
     ]
    }
   ],
   "source": [
    "data_all = train_data + test_data\n",
    "len_train = len(train_data)\n",
    "\n",
    "tfidf.fit(data_all)\n",
    "\n",
    "data_all = tfidf.transform(data_all)\n",
    "\n",
    "# 恢复成训练集和测试集部分\n",
    "train_x = data_all[:len_train]\n",
    "test_x = data_all[len_train:]\n",
    "print ('TF-IDF处理结束.')"
   ]
  },
  {
   "cell_type": "code",
   "execution_count": 12,
   "metadata": {},
   "outputs": [],
   "source": [
    "clf=svm.LinearSVC(loss='squared_hinge', dual=True, tol=0.0001,\n",
    "                  C=1.0, multi_class='ovr', fit_intercept=True, intercept_scaling=1, \n",
    "                  class_weight='balanced', verbose=0, random_state=None, max_iter=1000)\n",
    "svm=clf.fit(train_x,label)\n",
    "svm_pre=svm.predict(test_x)\n",
    "svm = pd.DataFrame(data=svm_pre, columns=['comment'])\n",
    "svm['id'] = test.id\n",
    "svm = svm[['id', 'comment']]\n",
    "svm.to_csv('svm.csv',index=False)"
   ]
  },
  {
   "cell_type": "code",
   "execution_count": 13,
   "metadata": {},
   "outputs": [],
   "source": [
    "r=test\n",
    "r['id']=svm_pre\n",
    "r0=r[r.id==0]"
   ]
  },
  {
   "cell_type": "code",
   "execution_count": 14,
   "metadata": {},
   "outputs": [
    {
     "name": "stdout",
     "output_type": "stream",
     "text": [
      "      id                                        comment\n",
      "17     0  天，还有蚊子，份量太太太太少了，老大你这个好几十哦，全是西海椒和芹菜，老板这样做生意不好哦\n",
      "1753   0  去了两次，人太多，团购的上菜较慢，有苍蝇兄也有蚊子兄，总的来说算不错了！喜欢喝老鸭汤主要！\n",
      "     id                    comment\n",
      "722   0  想吐，银耳汤杯盖上面有一颗老鼠屎，而且还黏在上面了\n",
      "      id                                        comment\n",
      "1342   0             有苍蝇。。。。。。对于一个才学了节肢动物的人来说  真的是人都不好了\n",
      "1753   0  去了两次，人太多，团购的上菜较慢，有苍蝇兄也有蚊子兄，总的来说算不错了！喜欢喝老鸭汤主要！\n",
      "      id                                            comment\n",
      "531    0  第一次没看评价点了这家，因为图片和价位还蛮吸引人的，吃完没事干给你们来个具体的建议，是真的不...\n",
      "1296   0  这家冒菜确实难吃。 盐巴像打倒了一样 把我咸安逸了。这都算了嘛 关键是菜不晓得放了好多天的了...\n"
     ]
    }
   ],
   "source": [
    "key_word=['蚊子','老鼠','苍蝇','酸臭']\n",
    "\n",
    "# key_word2=['蚊子','剩','不新鲜','没熟','老鼠','烂','骚味','苍蝇','虫','臭','想吐','太硬']\n",
    "for i in key_word:\n",
    "  print (r0[r0['comment'].str.contains(i)])"
   ]
  },
  {
   "cell_type": "code",
   "execution_count": 15,
   "metadata": {},
   "outputs": [
    {
     "name": "stdout",
     "output_type": "stream",
     "text": [
      "      id                                            comment\n",
      "74     0  除了尖椒鸡外，其他图片与实物完全不符，全是干辣椒，而且土豆片中有葱有蒜台，感觉像是几个菜混合...\n",
      "229    0                               饭像没熟样 好像昨天的剩饭 一点都不好吃\n",
      "299    0                         来了好几次了，味道还不错，两个人，吃的好饱，还剩不少\n",
      "529    0  这是第二次团购这家的汤锅了，第一次去感觉还不错，第二次就继续回购了。位置依旧好找，对于熟悉南...\n",
      "642    0                                味道挺好的，就是我们吃不了辣，剩了很多\n",
      "715    0  嗯，去吃了以后感觉非常不错，分量也比较多，我们4个人去吃了，还没有吃完还剩了很多，比较经济便...\n",
      "761    0  #椒盐皮皮虾#没肉，而且咸的发苦，巨咸无比！吃了一只剩下的全部都浪费了#香辣耗儿鱼#一个字“...\n",
      "1335   0                               一如既往的好。味道好，6个人吃还剩了好多\n",
      "1411   0  我们两个人团的这个四人餐，剩了四个菜基本没吃就已经吃到撑了。味道很赞，老板也很好，还送了一壶...\n",
      "1660   0  该位置很好找，就在中渝爱都会的门口，我们九点过才去吃，没有排队，味道很好吃，我们两个人吃的中...\n",
      "1675   0  好评！价格很实惠，分量很足，我们3个人吃的4人餐，还剩了很多，味道不错，老板很热情，还送了一...\n",
      "1682   0                               味道不错，面块很好吃。四个人吃的，剩了些\n",
      "1744   0  两个人团了三人餐，我们俩算是胃口很大的了，吃的还有剩，1只足够了。最开始看着量不大，但真的份...\n",
      "1767   0                                       是人吃的吗？剩饭，剩菜，\n",
      "1780   0  第一次别人送舍友的烤鸭。吃了就忘不了了，以后班里的聚会都从三峡带份烤鸭，5个人每次都能剩下。...\n",
      "1907   0                                       分量足，剩了好多没吃完。\n",
      "      id                                            comment\n",
      "238    0  三文鱼不新鲜，肉质分层了，158元的大份三文鱼（35片）每片4.5元了，28.8元的小份三文...\n",
      "1953   0          菜品很不新鲜，藕像没洗过一样，藕片都干，豆腐很辣，分量又少，下次再也不会在这家吃了\n",
      "     id                      comment\n",
      "229   0         饭像没熟样 好像昨天的剩饭 一点都不好吃\n",
      "581   0       鸡块居然没熟…………不好吃全扔了#黄金鸡块#\n",
      "697   0  方便面没熟，没法吃，竹笋很老咬不动而且很少，菜品也很少\n",
      "      id                                            comment\n",
      "328    0                    实际与宣传的差距太大，口味不行，这是我在重庆吃过最烂的石锅拌饭\n",
      "866    0            各位，骗人的店。偷工减料的，好少，有些菜还没有。烂店一个。。烂，烂，烂。。。。\n",
      "1350   0  第一次吃羊排抓饭，米饭很香颗粒晶莹饱满，羊肉和胡萝卜的汁汁和香味充分的渗透到米粒里面。调味料...\n",
      "1369   0                                        黄桃心心烂了，淡而无味\n"
     ]
    }
   ],
   "source": [
    "key_word2=['剩','不新鲜','没熟','烂']\n",
    "for i in key_word2:\n",
    "  print (r0[r0['comment'].str.contains(i)])"
   ]
  },
  {
   "cell_type": "code",
   "execution_count": 16,
   "metadata": {},
   "outputs": [
    {
     "name": "stdout",
     "output_type": "stream",
     "text": [
      "      id                                            comment\n",
      "1413   0  不好说的。豆花可以吃。烧菜只吃了一坨真的。建议老板自己尝一下。不晓得是撒子味道好重的骚味！第...\n",
      "1985   0                                 有股羊骚味，我点的牛肉啊？送的汤好喝\n",
      "      id                                        comment\n",
      "1342   0             有苍蝇。。。。。。对于一个才学了节肢动物的人来说  真的是人都不好了\n",
      "1753   0  去了两次，人太多，团购的上菜较慢，有苍蝇兄也有蚊子兄，总的来说算不错了！喜欢喝老鸭汤主要！\n",
      "      id                                            comment\n",
      "501    0  其实我们经常来，一般聚会请客都来这里吃，每个月都会来几次的。这次家里人吃就团了一个结果遇到下...\n",
      "1963   0               完美，你家东西只有完美来形容，还附赠昆虫野味，完美到我再吃你家东西是SB\n",
      "      id                                            comment\n",
      "531    0  第一次没看评价点了这家，因为图片和价位还蛮吸引人的，吃完没事干给你们来个具体的建议，是真的不...\n",
      "1296   0  这家冒菜确实难吃。 盐巴像打倒了一样 把我咸安逸了。这都算了嘛 关键是菜不晓得放了好多天的了...\n",
      "      id                                            comment\n",
      "613    0                                    不好吃，咖喱不正宗，想吐的味道\n",
      "722    0                          想吐，银耳汤杯盖上面有一颗老鼠屎，而且还黏在上面了\n",
      "1111   0  #精瘦肉300g/份#这个精瘦肉我真心不想吐槽，全是肉筋，平时我可以炒两份吃，结果这个精瘦肉...\n",
      "1556   0                                  超级难吃 不想吐槽什么 太难吃了 \n",
      "      id                                            comment\n",
      "662    0  太硬了嚼都嚼不动 像皮鞋样怎么吃嘛 .买了也不是一次两次了这次最难吃 .还有我备注了不要葱是...\n",
      "1844   0  这次我又买了两袋土司，两个泡芙回来，确实是感觉超级划算，一买完就又屯了一张券，担心到时候优惠...\n"
     ]
    }
   ],
   "source": [
    "key_word3=['骚味','苍蝇','虫','臭','想吐','太硬']\n",
    "for i in key_word3:\n",
    "  print (r0[r0['comment'].str.contains(i)])"
   ]
  },
  {
   "cell_type": "code",
   "execution_count": 18,
   "metadata": {},
   "outputs": [],
   "source": [
    "a=[17,1753,229,1767,238,1953 ,581, 697,722,1369, \n",
    "  1985,1342,753,1963,74,1296,531,1296,613,662 ,322,1413]"
   ]
  },
  {
   "cell_type": "code",
   "execution_count": 19,
   "metadata": {},
   "outputs": [
    {
     "name": "stdout",
     "output_type": "stream",
     "text": [
      "结束3.\n"
     ]
    }
   ],
   "source": [
    "for i in a:\n",
    "  svm.loc[i,('comment')]=[1]\n",
    "svm.to_csv('后处理svm.csv', index=False)\n",
    "print ('结束3.')"
   ]
  },
  {
   "cell_type": "code",
   "execution_count": null,
   "metadata": {},
   "outputs": [],
   "source": []
  }
 ],
 "metadata": {
  "kernelspec": {
   "display_name": "Python 3",
   "language": "python",
   "name": "python3"
  },
  "language_info": {
   "codemirror_mode": {
    "name": "ipython",
    "version": 3
   },
   "file_extension": ".py",
   "mimetype": "text/x-python",
   "name": "python",
   "nbconvert_exporter": "python",
   "pygments_lexer": "ipython3",
   "version": "3.7.3"
  }
 },
 "nbformat": 4,
 "nbformat_minor": 2
}
